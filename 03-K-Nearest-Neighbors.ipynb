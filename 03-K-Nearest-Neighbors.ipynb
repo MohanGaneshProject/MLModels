{
 "cells": [
  {
   "cell_type": "markdown",
   "id": "ab3248e2",
   "metadata": {},
   "source": [
    "# K-Nearest Neighbour"
   ]
  },
  {
   "cell_type": "code",
   "execution_count": 1,
   "id": "a18c5eb3",
   "metadata": {},
   "outputs": [],
   "source": [
    "import pandas as pd\n",
    "import numpy as np\n",
    "import matplotlib.pyplot as plt\n",
    "import seaborn as sns"
   ]
  },
  {
   "cell_type": "code",
   "execution_count": 5,
   "id": "b1a65622",
   "metadata": {},
   "outputs": [
    {
     "data": {
      "text/html": [
       "<div>\n",
       "<style scoped>\n",
       "    .dataframe tbody tr th:only-of-type {\n",
       "        vertical-align: middle;\n",
       "    }\n",
       "\n",
       "    .dataframe tbody tr th {\n",
       "        vertical-align: top;\n",
       "    }\n",
       "\n",
       "    .dataframe thead th {\n",
       "        text-align: right;\n",
       "    }\n",
       "</style>\n",
       "<table border=\"1\" class=\"dataframe\">\n",
       "  <thead>\n",
       "    <tr style=\"text-align: right;\">\n",
       "      <th></th>\n",
       "      <th>WTT</th>\n",
       "      <th>PTI</th>\n",
       "      <th>EQW</th>\n",
       "      <th>SBI</th>\n",
       "      <th>LQE</th>\n",
       "      <th>QWG</th>\n",
       "      <th>FDJ</th>\n",
       "      <th>PJF</th>\n",
       "      <th>HQE</th>\n",
       "      <th>NXJ</th>\n",
       "      <th>TARGET CLASS</th>\n",
       "    </tr>\n",
       "  </thead>\n",
       "  <tbody>\n",
       "    <tr>\n",
       "      <th>0</th>\n",
       "      <td>0.913917</td>\n",
       "      <td>1.162073</td>\n",
       "      <td>0.567946</td>\n",
       "      <td>0.755464</td>\n",
       "      <td>0.780862</td>\n",
       "      <td>0.352608</td>\n",
       "      <td>0.759697</td>\n",
       "      <td>0.643798</td>\n",
       "      <td>0.879422</td>\n",
       "      <td>1.231409</td>\n",
       "      <td>1</td>\n",
       "    </tr>\n",
       "    <tr>\n",
       "      <th>1</th>\n",
       "      <td>0.635632</td>\n",
       "      <td>1.003722</td>\n",
       "      <td>0.535342</td>\n",
       "      <td>0.825645</td>\n",
       "      <td>0.924109</td>\n",
       "      <td>0.648450</td>\n",
       "      <td>0.675334</td>\n",
       "      <td>1.013546</td>\n",
       "      <td>0.621552</td>\n",
       "      <td>1.492702</td>\n",
       "      <td>0</td>\n",
       "    </tr>\n",
       "    <tr>\n",
       "      <th>2</th>\n",
       "      <td>0.721360</td>\n",
       "      <td>1.201493</td>\n",
       "      <td>0.921990</td>\n",
       "      <td>0.855595</td>\n",
       "      <td>1.526629</td>\n",
       "      <td>0.720781</td>\n",
       "      <td>1.626351</td>\n",
       "      <td>1.154483</td>\n",
       "      <td>0.957877</td>\n",
       "      <td>1.285597</td>\n",
       "      <td>0</td>\n",
       "    </tr>\n",
       "    <tr>\n",
       "      <th>3</th>\n",
       "      <td>1.234204</td>\n",
       "      <td>1.386726</td>\n",
       "      <td>0.653046</td>\n",
       "      <td>0.825624</td>\n",
       "      <td>1.142504</td>\n",
       "      <td>0.875128</td>\n",
       "      <td>1.409708</td>\n",
       "      <td>1.380003</td>\n",
       "      <td>1.522692</td>\n",
       "      <td>1.153093</td>\n",
       "      <td>1</td>\n",
       "    </tr>\n",
       "    <tr>\n",
       "      <th>4</th>\n",
       "      <td>1.279491</td>\n",
       "      <td>0.949750</td>\n",
       "      <td>0.627280</td>\n",
       "      <td>0.668976</td>\n",
       "      <td>1.232537</td>\n",
       "      <td>0.703727</td>\n",
       "      <td>1.115596</td>\n",
       "      <td>0.646691</td>\n",
       "      <td>1.463812</td>\n",
       "      <td>1.419167</td>\n",
       "      <td>1</td>\n",
       "    </tr>\n",
       "  </tbody>\n",
       "</table>\n",
       "</div>"
      ],
      "text/plain": [
       "        WTT       PTI       EQW       SBI       LQE       QWG       FDJ  \\\n",
       "0  0.913917  1.162073  0.567946  0.755464  0.780862  0.352608  0.759697   \n",
       "1  0.635632  1.003722  0.535342  0.825645  0.924109  0.648450  0.675334   \n",
       "2  0.721360  1.201493  0.921990  0.855595  1.526629  0.720781  1.626351   \n",
       "3  1.234204  1.386726  0.653046  0.825624  1.142504  0.875128  1.409708   \n",
       "4  1.279491  0.949750  0.627280  0.668976  1.232537  0.703727  1.115596   \n",
       "\n",
       "        PJF       HQE       NXJ  TARGET CLASS  \n",
       "0  0.643798  0.879422  1.231409             1  \n",
       "1  1.013546  0.621552  1.492702             0  \n",
       "2  1.154483  0.957877  1.285597             0  \n",
       "3  1.380003  1.522692  1.153093             1  \n",
       "4  0.646691  1.463812  1.419167             1  "
      ]
     },
     "execution_count": 5,
     "metadata": {},
     "output_type": "execute_result"
    }
   ],
   "source": [
    "df = pd.read_csv(\"C:/Users/HP/OneDrive/Desktop/DataAnalysisFiles/Datasets/Classified.csv\")\n",
    "df.head()"
   ]
  },
  {
   "cell_type": "markdown",
   "id": "36f99a22",
   "metadata": {},
   "source": [
    "# Standardization"
   ]
  },
  {
   "cell_type": "code",
   "execution_count": 8,
   "id": "5e6203c7",
   "metadata": {},
   "outputs": [],
   "source": [
    "from sklearn.preprocessing import StandardScaler,MinMaxScaler"
   ]
  },
  {
   "cell_type": "code",
   "execution_count": 10,
   "id": "eafe26d8",
   "metadata": {},
   "outputs": [],
   "source": [
    "#Normalization\n",
    "nor = MinMaxScaler()"
   ]
  },
  {
   "cell_type": "code",
   "execution_count": 13,
   "id": "f45adb18",
   "metadata": {},
   "outputs": [],
   "source": [
    "#Standardization\n",
    "scaler = StandardScaler()"
   ]
  },
  {
   "cell_type": "code",
   "execution_count": 20,
   "id": "8aa1dc03",
   "metadata": {},
   "outputs": [
    {
     "data": {
      "text/plain": [
       "0      1\n",
       "1      0\n",
       "2      0\n",
       "3      1\n",
       "4      1\n",
       "      ..\n",
       "995    1\n",
       "996    0\n",
       "997    1\n",
       "998    1\n",
       "999    1\n",
       "Name: TARGET CLASS, Length: 1000, dtype: int64"
      ]
     },
     "execution_count": 20,
     "metadata": {},
     "output_type": "execute_result"
    }
   ],
   "source": [
    "df.shape\n",
    "df.head()\n",
    "x = df.iloc[:,:10]\n",
    "y = df[\"TARGET CLASS\"]\n",
    "y"
   ]
  },
  {
   "cell_type": "code",
   "execution_count": 28,
   "id": "b72800d3",
   "metadata": {},
   "outputs": [
    {
     "data": {
      "text/html": [
       "<div>\n",
       "<style scoped>\n",
       "    .dataframe tbody tr th:only-of-type {\n",
       "        vertical-align: middle;\n",
       "    }\n",
       "\n",
       "    .dataframe tbody tr th {\n",
       "        vertical-align: top;\n",
       "    }\n",
       "\n",
       "    .dataframe thead th {\n",
       "        text-align: right;\n",
       "    }\n",
       "</style>\n",
       "<table border=\"1\" class=\"dataframe\">\n",
       "  <thead>\n",
       "    <tr style=\"text-align: right;\">\n",
       "      <th></th>\n",
       "      <th>WTT</th>\n",
       "      <th>PTI</th>\n",
       "      <th>EQW</th>\n",
       "      <th>SBI</th>\n",
       "      <th>LQE</th>\n",
       "      <th>QWG</th>\n",
       "      <th>FDJ</th>\n",
       "      <th>PJF</th>\n",
       "      <th>HQE</th>\n",
       "      <th>NXJ</th>\n",
       "    </tr>\n",
       "  </thead>\n",
       "  <tbody>\n",
       "    <tr>\n",
       "      <th>0</th>\n",
       "      <td>0.477912</td>\n",
       "      <td>0.517593</td>\n",
       "      <td>0.255846</td>\n",
       "      <td>0.446856</td>\n",
       "      <td>0.348797</td>\n",
       "      <td>0.064235</td>\n",
       "      <td>0.327526</td>\n",
       "      <td>0.231719</td>\n",
       "      <td>0.338214</td>\n",
       "      <td>0.471767</td>\n",
       "    </tr>\n",
       "    <tr>\n",
       "      <th>1</th>\n",
       "      <td>0.298068</td>\n",
       "      <td>0.403864</td>\n",
       "      <td>0.234836</td>\n",
       "      <td>0.490999</td>\n",
       "      <td>0.456119</td>\n",
       "      <td>0.274872</td>\n",
       "      <td>0.268036</td>\n",
       "      <td>0.480550</td>\n",
       "      <td>0.168622</td>\n",
       "      <td>0.680091</td>\n",
       "    </tr>\n",
       "    <tr>\n",
       "      <th>2</th>\n",
       "      <td>0.353470</td>\n",
       "      <td>0.545904</td>\n",
       "      <td>0.483996</td>\n",
       "      <td>0.509837</td>\n",
       "      <td>0.907533</td>\n",
       "      <td>0.326371</td>\n",
       "      <td>0.938657</td>\n",
       "      <td>0.575397</td>\n",
       "      <td>0.389811</td>\n",
       "      <td>0.514970</td>\n",
       "    </tr>\n",
       "    <tr>\n",
       "      <th>3</th>\n",
       "      <td>0.684900</td>\n",
       "      <td>0.678940</td>\n",
       "      <td>0.310686</td>\n",
       "      <td>0.490986</td>\n",
       "      <td>0.619742</td>\n",
       "      <td>0.436264</td>\n",
       "      <td>0.785889</td>\n",
       "      <td>0.727165</td>\n",
       "      <td>0.761269</td>\n",
       "      <td>0.409326</td>\n",
       "    </tr>\n",
       "    <tr>\n",
       "      <th>4</th>\n",
       "      <td>0.714167</td>\n",
       "      <td>0.365101</td>\n",
       "      <td>0.294082</td>\n",
       "      <td>0.392456</td>\n",
       "      <td>0.687196</td>\n",
       "      <td>0.314229</td>\n",
       "      <td>0.578492</td>\n",
       "      <td>0.233666</td>\n",
       "      <td>0.722546</td>\n",
       "      <td>0.621463</td>\n",
       "    </tr>\n",
       "    <tr>\n",
       "      <th>...</th>\n",
       "      <td>...</td>\n",
       "      <td>...</td>\n",
       "      <td>...</td>\n",
       "      <td>...</td>\n",
       "      <td>...</td>\n",
       "      <td>...</td>\n",
       "      <td>...</td>\n",
       "      <td>...</td>\n",
       "      <td>...</td>\n",
       "      <td>...</td>\n",
       "    </tr>\n",
       "    <tr>\n",
       "      <th>995</th>\n",
       "      <td>0.540622</td>\n",
       "      <td>0.425615</td>\n",
       "      <td>0.439613</td>\n",
       "      <td>0.363198</td>\n",
       "      <td>0.540406</td>\n",
       "      <td>0.230579</td>\n",
       "      <td>0.318439</td>\n",
       "      <td>0.013646</td>\n",
       "      <td>0.494684</td>\n",
       "      <td>0.565135</td>\n",
       "    </tr>\n",
       "    <tr>\n",
       "      <th>996</th>\n",
       "      <td>0.259226</td>\n",
       "      <td>0.369436</td>\n",
       "      <td>0.496785</td>\n",
       "      <td>0.470391</td>\n",
       "      <td>0.823357</td>\n",
       "      <td>0.717082</td>\n",
       "      <td>0.536417</td>\n",
       "      <td>0.278421</td>\n",
       "      <td>0.390341</td>\n",
       "      <td>0.816257</td>\n",
       "    </tr>\n",
       "    <tr>\n",
       "      <th>997</th>\n",
       "      <td>0.621092</td>\n",
       "      <td>0.388596</td>\n",
       "      <td>0.393724</td>\n",
       "      <td>0.548295</td>\n",
       "      <td>0.438829</td>\n",
       "      <td>0.443107</td>\n",
       "      <td>0.064574</td>\n",
       "      <td>0.060641</td>\n",
       "      <td>0.364369</td>\n",
       "      <td>0.594624</td>\n",
       "    </tr>\n",
       "    <tr>\n",
       "      <th>998</th>\n",
       "      <td>0.588408</td>\n",
       "      <td>0.301913</td>\n",
       "      <td>0.152232</td>\n",
       "      <td>0.390393</td>\n",
       "      <td>0.968955</td>\n",
       "      <td>0.485200</td>\n",
       "      <td>0.395298</td>\n",
       "      <td>0.512713</td>\n",
       "      <td>0.599986</td>\n",
       "      <td>0.437207</td>\n",
       "    </tr>\n",
       "    <tr>\n",
       "      <th>999</th>\n",
       "      <td>0.428501</td>\n",
       "      <td>0.373313</td>\n",
       "      <td>0.158579</td>\n",
       "      <td>0.474733</td>\n",
       "      <td>0.463829</td>\n",
       "      <td>0.115608</td>\n",
       "      <td>0.340598</td>\n",
       "      <td>0.409495</td>\n",
       "      <td>0.586658</td>\n",
       "      <td>0.578147</td>\n",
       "    </tr>\n",
       "  </tbody>\n",
       "</table>\n",
       "<p>1000 rows × 10 columns</p>\n",
       "</div>"
      ],
      "text/plain": [
       "          WTT       PTI       EQW       SBI       LQE       QWG       FDJ  \\\n",
       "0    0.477912  0.517593  0.255846  0.446856  0.348797  0.064235  0.327526   \n",
       "1    0.298068  0.403864  0.234836  0.490999  0.456119  0.274872  0.268036   \n",
       "2    0.353470  0.545904  0.483996  0.509837  0.907533  0.326371  0.938657   \n",
       "3    0.684900  0.678940  0.310686  0.490986  0.619742  0.436264  0.785889   \n",
       "4    0.714167  0.365101  0.294082  0.392456  0.687196  0.314229  0.578492   \n",
       "..        ...       ...       ...       ...       ...       ...       ...   \n",
       "995  0.540622  0.425615  0.439613  0.363198  0.540406  0.230579  0.318439   \n",
       "996  0.259226  0.369436  0.496785  0.470391  0.823357  0.717082  0.536417   \n",
       "997  0.621092  0.388596  0.393724  0.548295  0.438829  0.443107  0.064574   \n",
       "998  0.588408  0.301913  0.152232  0.390393  0.968955  0.485200  0.395298   \n",
       "999  0.428501  0.373313  0.158579  0.474733  0.463829  0.115608  0.340598   \n",
       "\n",
       "          PJF       HQE       NXJ  \n",
       "0    0.231719  0.338214  0.471767  \n",
       "1    0.480550  0.168622  0.680091  \n",
       "2    0.575397  0.389811  0.514970  \n",
       "3    0.727165  0.761269  0.409326  \n",
       "4    0.233666  0.722546  0.621463  \n",
       "..        ...       ...       ...  \n",
       "995  0.013646  0.494684  0.565135  \n",
       "996  0.278421  0.390341  0.816257  \n",
       "997  0.060641  0.364369  0.594624  \n",
       "998  0.512713  0.599986  0.437207  \n",
       "999  0.409495  0.586658  0.578147  \n",
       "\n",
       "[1000 rows x 10 columns]"
      ]
     },
     "execution_count": 28,
     "metadata": {},
     "output_type": "execute_result"
    }
   ],
   "source": [
    "df.columns\n",
    "X=pd.DataFrame(nor.fit_transform(x), columns=['WTT', 'PTI', 'EQW', 'SBI', 'LQE', 'QWG', 'FDJ', 'PJF', 'HQE', 'NXJ'])\n",
    "#X = nor.fit_transform(x)\n",
    "X"
   ]
  },
  {
   "cell_type": "markdown",
   "id": "31cce72e",
   "metadata": {},
   "source": [
    "# Train Test Split"
   ]
  },
  {
   "cell_type": "code",
   "execution_count": 92,
   "id": "fe9c7228",
   "metadata": {},
   "outputs": [
    {
     "data": {
      "text/html": [
       "<div>\n",
       "<style scoped>\n",
       "    .dataframe tbody tr th:only-of-type {\n",
       "        vertical-align: middle;\n",
       "    }\n",
       "\n",
       "    .dataframe tbody tr th {\n",
       "        vertical-align: top;\n",
       "    }\n",
       "\n",
       "    .dataframe thead th {\n",
       "        text-align: right;\n",
       "    }\n",
       "</style>\n",
       "<table border=\"1\" class=\"dataframe\">\n",
       "  <thead>\n",
       "    <tr style=\"text-align: right;\">\n",
       "      <th></th>\n",
       "      <th>WTT</th>\n",
       "      <th>PTI</th>\n",
       "      <th>EQW</th>\n",
       "      <th>SBI</th>\n",
       "      <th>LQE</th>\n",
       "      <th>QWG</th>\n",
       "      <th>FDJ</th>\n",
       "      <th>PJF</th>\n",
       "      <th>HQE</th>\n",
       "      <th>NXJ</th>\n",
       "    </tr>\n",
       "  </thead>\n",
       "  <tbody>\n",
       "    <tr>\n",
       "      <th>521</th>\n",
       "      <td>0.343738</td>\n",
       "      <td>0.775504</td>\n",
       "      <td>0.618561</td>\n",
       "      <td>0.225437</td>\n",
       "      <td>0.435619</td>\n",
       "      <td>0.465263</td>\n",
       "      <td>0.546442</td>\n",
       "      <td>0.616145</td>\n",
       "      <td>0.442837</td>\n",
       "      <td>0.642695</td>\n",
       "    </tr>\n",
       "    <tr>\n",
       "      <th>737</th>\n",
       "      <td>0.759513</td>\n",
       "      <td>0.559436</td>\n",
       "      <td>0.344721</td>\n",
       "      <td>0.483899</td>\n",
       "      <td>0.265677</td>\n",
       "      <td>0.291639</td>\n",
       "      <td>0.318399</td>\n",
       "      <td>0.162349</td>\n",
       "      <td>0.701620</td>\n",
       "      <td>0.425320</td>\n",
       "    </tr>\n",
       "    <tr>\n",
       "      <th>740</th>\n",
       "      <td>0.738344</td>\n",
       "      <td>0.507952</td>\n",
       "      <td>0.562174</td>\n",
       "      <td>0.538975</td>\n",
       "      <td>0.471292</td>\n",
       "      <td>0.602616</td>\n",
       "      <td>0.012703</td>\n",
       "      <td>0.344042</td>\n",
       "      <td>0.440108</td>\n",
       "      <td>0.753802</td>\n",
       "    </tr>\n",
       "    <tr>\n",
       "      <th>660</th>\n",
       "      <td>0.671638</td>\n",
       "      <td>0.403300</td>\n",
       "      <td>0.180370</td>\n",
       "      <td>0.550460</td>\n",
       "      <td>0.365181</td>\n",
       "      <td>0.287843</td>\n",
       "      <td>0.146151</td>\n",
       "      <td>0.631434</td>\n",
       "      <td>0.581605</td>\n",
       "      <td>0.574777</td>\n",
       "    </tr>\n",
       "    <tr>\n",
       "      <th>411</th>\n",
       "      <td>0.497791</td>\n",
       "      <td>0.619794</td>\n",
       "      <td>0.487721</td>\n",
       "      <td>0.386791</td>\n",
       "      <td>0.492513</td>\n",
       "      <td>0.611188</td>\n",
       "      <td>0.563105</td>\n",
       "      <td>0.479692</td>\n",
       "      <td>0.486001</td>\n",
       "      <td>0.976966</td>\n",
       "    </tr>\n",
       "    <tr>\n",
       "      <th>...</th>\n",
       "      <td>...</td>\n",
       "      <td>...</td>\n",
       "      <td>...</td>\n",
       "      <td>...</td>\n",
       "      <td>...</td>\n",
       "      <td>...</td>\n",
       "      <td>...</td>\n",
       "      <td>...</td>\n",
       "      <td>...</td>\n",
       "      <td>...</td>\n",
       "    </tr>\n",
       "    <tr>\n",
       "      <th>468</th>\n",
       "      <td>0.373275</td>\n",
       "      <td>0.202619</td>\n",
       "      <td>0.444166</td>\n",
       "      <td>0.376412</td>\n",
       "      <td>0.414530</td>\n",
       "      <td>0.407404</td>\n",
       "      <td>0.240666</td>\n",
       "      <td>0.047354</td>\n",
       "      <td>0.644960</td>\n",
       "      <td>0.405368</td>\n",
       "    </tr>\n",
       "    <tr>\n",
       "      <th>935</th>\n",
       "      <td>0.508589</td>\n",
       "      <td>0.406081</td>\n",
       "      <td>0.231797</td>\n",
       "      <td>0.304672</td>\n",
       "      <td>0.304036</td>\n",
       "      <td>0.327838</td>\n",
       "      <td>0.447582</td>\n",
       "      <td>0.354659</td>\n",
       "      <td>0.684198</td>\n",
       "      <td>0.646184</td>\n",
       "    </tr>\n",
       "    <tr>\n",
       "      <th>428</th>\n",
       "      <td>0.343751</td>\n",
       "      <td>0.637593</td>\n",
       "      <td>0.437919</td>\n",
       "      <td>0.542503</td>\n",
       "      <td>0.495446</td>\n",
       "      <td>0.607301</td>\n",
       "      <td>0.877803</td>\n",
       "      <td>0.653238</td>\n",
       "      <td>0.516667</td>\n",
       "      <td>0.774383</td>\n",
       "    </tr>\n",
       "    <tr>\n",
       "      <th>7</th>\n",
       "      <td>0.414745</td>\n",
       "      <td>0.464675</td>\n",
       "      <td>0.466825</td>\n",
       "      <td>0.125063</td>\n",
       "      <td>0.470365</td>\n",
       "      <td>0.557305</td>\n",
       "      <td>0.600310</td>\n",
       "      <td>0.701514</td>\n",
       "      <td>0.565701</td>\n",
       "      <td>0.626739</td>\n",
       "    </tr>\n",
       "    <tr>\n",
       "      <th>155</th>\n",
       "      <td>0.251085</td>\n",
       "      <td>0.397135</td>\n",
       "      <td>0.386648</td>\n",
       "      <td>0.477162</td>\n",
       "      <td>0.508937</td>\n",
       "      <td>0.548734</td>\n",
       "      <td>0.737904</td>\n",
       "      <td>0.821201</td>\n",
       "      <td>0.572553</td>\n",
       "      <td>0.704876</td>\n",
       "    </tr>\n",
       "  </tbody>\n",
       "</table>\n",
       "<p>300 rows × 10 columns</p>\n",
       "</div>"
      ],
      "text/plain": [
       "          WTT       PTI       EQW       SBI       LQE       QWG       FDJ  \\\n",
       "521  0.343738  0.775504  0.618561  0.225437  0.435619  0.465263  0.546442   \n",
       "737  0.759513  0.559436  0.344721  0.483899  0.265677  0.291639  0.318399   \n",
       "740  0.738344  0.507952  0.562174  0.538975  0.471292  0.602616  0.012703   \n",
       "660  0.671638  0.403300  0.180370  0.550460  0.365181  0.287843  0.146151   \n",
       "411  0.497791  0.619794  0.487721  0.386791  0.492513  0.611188  0.563105   \n",
       "..        ...       ...       ...       ...       ...       ...       ...   \n",
       "468  0.373275  0.202619  0.444166  0.376412  0.414530  0.407404  0.240666   \n",
       "935  0.508589  0.406081  0.231797  0.304672  0.304036  0.327838  0.447582   \n",
       "428  0.343751  0.637593  0.437919  0.542503  0.495446  0.607301  0.877803   \n",
       "7    0.414745  0.464675  0.466825  0.125063  0.470365  0.557305  0.600310   \n",
       "155  0.251085  0.397135  0.386648  0.477162  0.508937  0.548734  0.737904   \n",
       "\n",
       "          PJF       HQE       NXJ  \n",
       "521  0.616145  0.442837  0.642695  \n",
       "737  0.162349  0.701620  0.425320  \n",
       "740  0.344042  0.440108  0.753802  \n",
       "660  0.631434  0.581605  0.574777  \n",
       "411  0.479692  0.486001  0.976966  \n",
       "..        ...       ...       ...  \n",
       "468  0.047354  0.644960  0.405368  \n",
       "935  0.354659  0.684198  0.646184  \n",
       "428  0.653238  0.516667  0.774383  \n",
       "7    0.701514  0.565701  0.626739  \n",
       "155  0.821201  0.572553  0.704876  \n",
       "\n",
       "[300 rows x 10 columns]"
      ]
     },
     "execution_count": 92,
     "metadata": {},
     "output_type": "execute_result"
    }
   ],
   "source": [
    "from sklearn.model_selection import train_test_split\n",
    "X_train, X_test, y_train, y_test = train_test_split(X, y, test_size=0.3, random_state=42)\n",
    "X_test"
   ]
  },
  {
   "cell_type": "code",
   "execution_count": 94,
   "id": "dd9ffa1e",
   "metadata": {},
   "outputs": [
    {
     "data": {
      "text/plain": [
       "1.0"
      ]
     },
     "execution_count": 94,
     "metadata": {},
     "output_type": "execute_result"
    }
   ],
   "source": [
    "X_test[\"WTT\"].min()\n",
    "X_test[\"PTI\"].min()\n",
    "X_test[\"PTI\"].max()"
   ]
  },
  {
   "cell_type": "markdown",
   "id": "6e9e319f",
   "metadata": {},
   "source": [
    "# Using KNN"
   ]
  },
  {
   "cell_type": "markdown",
   "id": "8c191795",
   "metadata": {},
   "source": [
    "Remember we are trying to come up with a model that predicts whether someone TARGET CLASS or not. we will start with k=1"
   ]
  },
  {
   "cell_type": "code",
   "execution_count": 96,
   "id": "b0a713b2",
   "metadata": {},
   "outputs": [],
   "source": [
    "from sklearn.neighbors import KNeighborsClassifier"
   ]
  },
  {
   "cell_type": "code",
   "execution_count": 97,
   "id": "6470a3cb",
   "metadata": {},
   "outputs": [],
   "source": [
    "knn = KNeighborsClassifier(n_neighbors=21)"
   ]
  },
  {
   "cell_type": "code",
   "execution_count": 98,
   "id": "e81c80b6",
   "metadata": {},
   "outputs": [
    {
     "data": {
      "text/plain": [
       "KNeighborsClassifier(n_neighbors=21)"
      ]
     },
     "execution_count": 98,
     "metadata": {},
     "output_type": "execute_result"
    }
   ],
   "source": [
    " knn.fit(X_train,y_train)"
   ]
  },
  {
   "cell_type": "code",
   "execution_count": 99,
   "id": "b053ba85",
   "metadata": {},
   "outputs": [],
   "source": [
    "y_pred = knn.predict(X_test)"
   ]
  },
  {
   "cell_type": "code",
   "execution_count": 100,
   "id": "556be9cf",
   "metadata": {},
   "outputs": [
    {
     "data": {
      "text/plain": [
       "array([0, 1, 1, 1, 0, 1, 0, 1, 0, 1], dtype=int64)"
      ]
     },
     "execution_count": 100,
     "metadata": {},
     "output_type": "execute_result"
    }
   ],
   "source": [
    "y_pred[:10]"
   ]
  },
  {
   "cell_type": "code",
   "execution_count": 101,
   "id": "bba3f2f0",
   "metadata": {},
   "outputs": [
    {
     "data": {
      "text/plain": [
       "array([0, 1, 1, 1, 0, 1, 0, 1, 0, 1], dtype=int64)"
      ]
     },
     "execution_count": 101,
     "metadata": {},
     "output_type": "execute_result"
    }
   ],
   "source": [
    "np.array(y_test[:10])"
   ]
  },
  {
   "cell_type": "code",
   "execution_count": 102,
   "id": "8672dbd9",
   "metadata": {},
   "outputs": [
    {
     "data": {
      "text/plain": [
       "0.95"
      ]
     },
     "execution_count": 102,
     "metadata": {},
     "output_type": "execute_result"
    }
   ],
   "source": [
    "#Accuracy score\n",
    "from sklearn.metrics import accuracy_score\n",
    "accuracy_score(y_test,y_pred)"
   ]
  },
  {
   "cell_type": "markdown",
   "id": "f702d727",
   "metadata": {},
   "source": [
    "# Choosing a K value"
   ]
  },
  {
   "cell_type": "markdown",
   "id": "e55aaeb7",
   "metadata": {},
   "source": [
    "Lets go ahead and choose k Value using below code"
   ]
  },
  {
   "cell_type": "code",
   "execution_count": 103,
   "id": "b9adab14",
   "metadata": {},
   "outputs": [],
   "source": [
    "Acc=[]\n",
    "for i in range(1,60):\n",
    "    knn = KNeighborsClassifier(n_neighbors=i)\n",
    "    knn.fit(X_train,y_train)\n",
    "    pred_i = knn.predict(X_test)\n",
    "    Acc.append(accuracy_score(y_test,pred_i))"
   ]
  },
  {
   "cell_type": "code",
   "execution_count": 107,
   "id": "209032fb",
   "metadata": {},
   "outputs": [
    {
     "data": {
      "text/plain": [
       "0.9533333333333334"
      ]
     },
     "execution_count": 107,
     "metadata": {},
     "output_type": "execute_result"
    }
   ],
   "source": [
    "np.array(Acc).max()"
   ]
  },
  {
   "cell_type": "markdown",
   "id": "435da396",
   "metadata": {},
   "source": [
    "# Choosing the K value with plotting"
   ]
  },
  {
   "cell_type": "code",
   "execution_count": 113,
   "id": "8d5ddb06",
   "metadata": {},
   "outputs": [
    {
     "data": {
      "image/png": "[encoded data removed]",
      "text/plain": [
       "<Figure size 720x432 with 1 Axes>"
      ]
     },
     "metadata": {
      "needs_background": "light"
     },
     "output_type": "display_data"
    }
   ],
   "source": [
    "plt.figure(figsize=(10,6))\n",
    "plt.plot(range(1,60), Acc, color=\"blue\", linestyle=\"dashed\", marker='o', markerfacecolor=\"red\", markersize=10 )\n",
    "plt.xlabel(\"K-value\")\n",
    "plt.ylabel(\"Acuracy\")\n",
    "plt.title(\"Accuracy Vs K-value\")\n",
    "plt.show()"
   ]
  },
  {
   "cell_type": "markdown",
   "id": "373a8299",
   "metadata": {},
   "source": [
    "# Diabaties data"
   ]
  },
  {
   "cell_type": "code",
   "execution_count": 117,
   "id": "9b94397a",
   "metadata": {},
   "outputs": [
    {
     "data": {
      "text/html": [
       "<div>\n",
       "<style scoped>\n",
       "    .dataframe tbody tr th:only-of-type {\n",
       "        vertical-align: middle;\n",
       "    }\n",
       "\n",
       "    .dataframe tbody tr th {\n",
       "        vertical-align: top;\n",
       "    }\n",
       "\n",
       "    .dataframe thead th {\n",
       "        text-align: right;\n",
       "    }\n",
       "</style>\n",
       "<table border=\"1\" class=\"dataframe\">\n",
       "  <thead>\n",
       "    <tr style=\"text-align: right;\">\n",
       "      <th></th>\n",
       "      <th>Pregnancies</th>\n",
       "      <th>Glucose</th>\n",
       "      <th>BloodPressure</th>\n",
       "      <th>SkinThickness</th>\n",
       "      <th>Insulin</th>\n",
       "      <th>BMI</th>\n",
       "      <th>DiabetesPedigreeFunction</th>\n",
       "      <th>Age</th>\n",
       "      <th>Outcome</th>\n",
       "    </tr>\n",
       "  </thead>\n",
       "  <tbody>\n",
       "    <tr>\n",
       "      <th>0</th>\n",
       "      <td>6</td>\n",
       "      <td>148</td>\n",
       "      <td>72</td>\n",
       "      <td>35</td>\n",
       "      <td>0</td>\n",
       "      <td>33.6</td>\n",
       "      <td>0.627</td>\n",
       "      <td>50</td>\n",
       "      <td>1</td>\n",
       "    </tr>\n",
       "    <tr>\n",
       "      <th>1</th>\n",
       "      <td>1</td>\n",
       "      <td>85</td>\n",
       "      <td>66</td>\n",
       "      <td>29</td>\n",
       "      <td>0</td>\n",
       "      <td>26.6</td>\n",
       "      <td>0.351</td>\n",
       "      <td>31</td>\n",
       "      <td>0</td>\n",
       "    </tr>\n",
       "    <tr>\n",
       "      <th>2</th>\n",
       "      <td>8</td>\n",
       "      <td>183</td>\n",
       "      <td>64</td>\n",
       "      <td>0</td>\n",
       "      <td>0</td>\n",
       "      <td>23.3</td>\n",
       "      <td>0.672</td>\n",
       "      <td>32</td>\n",
       "      <td>1</td>\n",
       "    </tr>\n",
       "    <tr>\n",
       "      <th>3</th>\n",
       "      <td>1</td>\n",
       "      <td>89</td>\n",
       "      <td>66</td>\n",
       "      <td>23</td>\n",
       "      <td>94</td>\n",
       "      <td>28.1</td>\n",
       "      <td>0.167</td>\n",
       "      <td>21</td>\n",
       "      <td>0</td>\n",
       "    </tr>\n",
       "    <tr>\n",
       "      <th>4</th>\n",
       "      <td>0</td>\n",
       "      <td>137</td>\n",
       "      <td>40</td>\n",
       "      <td>35</td>\n",
       "      <td>168</td>\n",
       "      <td>43.1</td>\n",
       "      <td>2.288</td>\n",
       "      <td>33</td>\n",
       "      <td>1</td>\n",
       "    </tr>\n",
       "  </tbody>\n",
       "</table>\n",
       "</div>"
      ],
      "text/plain": [
       "   Pregnancies  Glucose  BloodPressure  SkinThickness  Insulin   BMI  \\\n",
       "0            6      148             72             35        0  33.6   \n",
       "1            1       85             66             29        0  26.6   \n",
       "2            8      183             64              0        0  23.3   \n",
       "3            1       89             66             23       94  28.1   \n",
       "4            0      137             40             35      168  43.1   \n",
       "\n",
       "   DiabetesPedigreeFunction  Age  Outcome  \n",
       "0                     0.627   50        1  \n",
       "1                     0.351   31        0  \n",
       "2                     0.672   32        1  \n",
       "3                     0.167   21        0  \n",
       "4                     2.288   33        1  "
      ]
     },
     "execution_count": 117,
     "metadata": {},
     "output_type": "execute_result"
    }
   ],
   "source": [
    "dia = pd.read_csv(\"C:/Users/HP/OneDrive/Desktop/DataAnalysisFiles/Datasets/diabetes.csv\")\n",
    "dia.head()"
   ]
  },
  {
   "cell_type": "code",
   "execution_count": 120,
   "id": "22658b34",
   "metadata": {},
   "outputs": [],
   "source": [
    "#Normalize the data\n",
    "from sklearn.preprocessing import MinMaxScaler,StandardScaler"
   ]
  },
  {
   "cell_type": "code",
   "execution_count": 123,
   "id": "e61e8588",
   "metadata": {},
   "outputs": [],
   "source": [
    "norm = MinMaxScaler()"
   ]
  },
  {
   "cell_type": "code",
   "execution_count": 128,
   "id": "38589366",
   "metadata": {},
   "outputs": [
    {
     "data": {
      "text/html": [
       "<div>\n",
       "<style scoped>\n",
       "    .dataframe tbody tr th:only-of-type {\n",
       "        vertical-align: middle;\n",
       "    }\n",
       "\n",
       "    .dataframe tbody tr th {\n",
       "        vertical-align: top;\n",
       "    }\n",
       "\n",
       "    .dataframe thead th {\n",
       "        text-align: right;\n",
       "    }\n",
       "</style>\n",
       "<table border=\"1\" class=\"dataframe\">\n",
       "  <thead>\n",
       "    <tr style=\"text-align: right;\">\n",
       "      <th></th>\n",
       "      <th>0</th>\n",
       "      <th>1</th>\n",
       "      <th>2</th>\n",
       "      <th>3</th>\n",
       "      <th>4</th>\n",
       "      <th>5</th>\n",
       "      <th>6</th>\n",
       "      <th>7</th>\n",
       "    </tr>\n",
       "  </thead>\n",
       "  <tbody>\n",
       "    <tr>\n",
       "      <th>0</th>\n",
       "      <td>0.352941</td>\n",
       "      <td>0.743719</td>\n",
       "      <td>0.590164</td>\n",
       "      <td>0.353535</td>\n",
       "      <td>0.000000</td>\n",
       "      <td>0.500745</td>\n",
       "      <td>0.234415</td>\n",
       "      <td>0.483333</td>\n",
       "    </tr>\n",
       "    <tr>\n",
       "      <th>1</th>\n",
       "      <td>0.058824</td>\n",
       "      <td>0.427136</td>\n",
       "      <td>0.540984</td>\n",
       "      <td>0.292929</td>\n",
       "      <td>0.000000</td>\n",
       "      <td>0.396423</td>\n",
       "      <td>0.116567</td>\n",
       "      <td>0.166667</td>\n",
       "    </tr>\n",
       "    <tr>\n",
       "      <th>2</th>\n",
       "      <td>0.470588</td>\n",
       "      <td>0.919598</td>\n",
       "      <td>0.524590</td>\n",
       "      <td>0.000000</td>\n",
       "      <td>0.000000</td>\n",
       "      <td>0.347243</td>\n",
       "      <td>0.253629</td>\n",
       "      <td>0.183333</td>\n",
       "    </tr>\n",
       "    <tr>\n",
       "      <th>3</th>\n",
       "      <td>0.058824</td>\n",
       "      <td>0.447236</td>\n",
       "      <td>0.540984</td>\n",
       "      <td>0.232323</td>\n",
       "      <td>0.111111</td>\n",
       "      <td>0.418778</td>\n",
       "      <td>0.038002</td>\n",
       "      <td>0.000000</td>\n",
       "    </tr>\n",
       "    <tr>\n",
       "      <th>4</th>\n",
       "      <td>0.000000</td>\n",
       "      <td>0.688442</td>\n",
       "      <td>0.327869</td>\n",
       "      <td>0.353535</td>\n",
       "      <td>0.198582</td>\n",
       "      <td>0.642325</td>\n",
       "      <td>0.943638</td>\n",
       "      <td>0.200000</td>\n",
       "    </tr>\n",
       "    <tr>\n",
       "      <th>...</th>\n",
       "      <td>...</td>\n",
       "      <td>...</td>\n",
       "      <td>...</td>\n",
       "      <td>...</td>\n",
       "      <td>...</td>\n",
       "      <td>...</td>\n",
       "      <td>...</td>\n",
       "      <td>...</td>\n",
       "    </tr>\n",
       "    <tr>\n",
       "      <th>763</th>\n",
       "      <td>0.588235</td>\n",
       "      <td>0.507538</td>\n",
       "      <td>0.622951</td>\n",
       "      <td>0.484848</td>\n",
       "      <td>0.212766</td>\n",
       "      <td>0.490313</td>\n",
       "      <td>0.039710</td>\n",
       "      <td>0.700000</td>\n",
       "    </tr>\n",
       "    <tr>\n",
       "      <th>764</th>\n",
       "      <td>0.117647</td>\n",
       "      <td>0.613065</td>\n",
       "      <td>0.573770</td>\n",
       "      <td>0.272727</td>\n",
       "      <td>0.000000</td>\n",
       "      <td>0.548435</td>\n",
       "      <td>0.111870</td>\n",
       "      <td>0.100000</td>\n",
       "    </tr>\n",
       "    <tr>\n",
       "      <th>765</th>\n",
       "      <td>0.294118</td>\n",
       "      <td>0.608040</td>\n",
       "      <td>0.590164</td>\n",
       "      <td>0.232323</td>\n",
       "      <td>0.132388</td>\n",
       "      <td>0.390462</td>\n",
       "      <td>0.071307</td>\n",
       "      <td>0.150000</td>\n",
       "    </tr>\n",
       "    <tr>\n",
       "      <th>766</th>\n",
       "      <td>0.058824</td>\n",
       "      <td>0.633166</td>\n",
       "      <td>0.491803</td>\n",
       "      <td>0.000000</td>\n",
       "      <td>0.000000</td>\n",
       "      <td>0.448584</td>\n",
       "      <td>0.115713</td>\n",
       "      <td>0.433333</td>\n",
       "    </tr>\n",
       "    <tr>\n",
       "      <th>767</th>\n",
       "      <td>0.058824</td>\n",
       "      <td>0.467337</td>\n",
       "      <td>0.573770</td>\n",
       "      <td>0.313131</td>\n",
       "      <td>0.000000</td>\n",
       "      <td>0.453055</td>\n",
       "      <td>0.101196</td>\n",
       "      <td>0.033333</td>\n",
       "    </tr>\n",
       "  </tbody>\n",
       "</table>\n",
       "<p>768 rows × 8 columns</p>\n",
       "</div>"
      ],
      "text/plain": [
       "            0         1         2         3         4         5         6  \\\n",
       "0    0.352941  0.743719  0.590164  0.353535  0.000000  0.500745  0.234415   \n",
       "1    0.058824  0.427136  0.540984  0.292929  0.000000  0.396423  0.116567   \n",
       "2    0.470588  0.919598  0.524590  0.000000  0.000000  0.347243  0.253629   \n",
       "3    0.058824  0.447236  0.540984  0.232323  0.111111  0.418778  0.038002   \n",
       "4    0.000000  0.688442  0.327869  0.353535  0.198582  0.642325  0.943638   \n",
       "..        ...       ...       ...       ...       ...       ...       ...   \n",
       "763  0.588235  0.507538  0.622951  0.484848  0.212766  0.490313  0.039710   \n",
       "764  0.117647  0.613065  0.573770  0.272727  0.000000  0.548435  0.111870   \n",
       "765  0.294118  0.608040  0.590164  0.232323  0.132388  0.390462  0.071307   \n",
       "766  0.058824  0.633166  0.491803  0.000000  0.000000  0.448584  0.115713   \n",
       "767  0.058824  0.467337  0.573770  0.313131  0.000000  0.453055  0.101196   \n",
       "\n",
       "            7  \n",
       "0    0.483333  \n",
       "1    0.166667  \n",
       "2    0.183333  \n",
       "3    0.000000  \n",
       "4    0.200000  \n",
       "..        ...  \n",
       "763  0.700000  \n",
       "764  0.100000  \n",
       "765  0.150000  \n",
       "766  0.433333  \n",
       "767  0.033333  \n",
       "\n",
       "[768 rows x 8 columns]"
      ]
     },
     "execution_count": 128,
     "metadata": {},
     "output_type": "execute_result"
    }
   ],
   "source": [
    "X = pd.DataFrame(norm.fit_transform(dia.iloc[:,:8]))\n",
    "y = dia[\"Outcome\"]\n",
    "y\n",
    "X"
   ]
  },
  {
   "cell_type": "code",
   "execution_count": 129,
   "id": "d6f8cbc1",
   "metadata": {},
   "outputs": [
    {
     "data": {
      "text/html": [
       "<div>\n",
       "<style scoped>\n",
       "    .dataframe tbody tr th:only-of-type {\n",
       "        vertical-align: middle;\n",
       "    }\n",
       "\n",
       "    .dataframe tbody tr th {\n",
       "        vertical-align: top;\n",
       "    }\n",
       "\n",
       "    .dataframe thead th {\n",
       "        text-align: right;\n",
       "    }\n",
       "</style>\n",
       "<table border=\"1\" class=\"dataframe\">\n",
       "  <thead>\n",
       "    <tr style=\"text-align: right;\">\n",
       "      <th></th>\n",
       "      <th>0</th>\n",
       "      <th>1</th>\n",
       "      <th>2</th>\n",
       "      <th>3</th>\n",
       "      <th>4</th>\n",
       "      <th>5</th>\n",
       "      <th>6</th>\n",
       "      <th>7</th>\n",
       "    </tr>\n",
       "  </thead>\n",
       "  <tbody>\n",
       "    <tr>\n",
       "      <th>668</th>\n",
       "      <td>0.352941</td>\n",
       "      <td>0.492462</td>\n",
       "      <td>0.475410</td>\n",
       "      <td>0.333333</td>\n",
       "      <td>0.224586</td>\n",
       "      <td>0.506706</td>\n",
       "      <td>0.150299</td>\n",
       "      <td>0.366667</td>\n",
       "    </tr>\n",
       "    <tr>\n",
       "      <th>324</th>\n",
       "      <td>0.117647</td>\n",
       "      <td>0.562814</td>\n",
       "      <td>0.614754</td>\n",
       "      <td>0.323232</td>\n",
       "      <td>0.000000</td>\n",
       "      <td>0.532042</td>\n",
       "      <td>0.029889</td>\n",
       "      <td>0.000000</td>\n",
       "    </tr>\n",
       "    <tr>\n",
       "      <th>624</th>\n",
       "      <td>0.117647</td>\n",
       "      <td>0.542714</td>\n",
       "      <td>0.524590</td>\n",
       "      <td>0.000000</td>\n",
       "      <td>0.000000</td>\n",
       "      <td>0.459016</td>\n",
       "      <td>0.034159</td>\n",
       "      <td>0.000000</td>\n",
       "    </tr>\n",
       "    <tr>\n",
       "      <th>690</th>\n",
       "      <td>0.470588</td>\n",
       "      <td>0.537688</td>\n",
       "      <td>0.655738</td>\n",
       "      <td>0.000000</td>\n",
       "      <td>0.000000</td>\n",
       "      <td>0.366617</td>\n",
       "      <td>0.332195</td>\n",
       "      <td>0.216667</td>\n",
       "    </tr>\n",
       "    <tr>\n",
       "      <th>473</th>\n",
       "      <td>0.411765</td>\n",
       "      <td>0.683417</td>\n",
       "      <td>0.737705</td>\n",
       "      <td>0.000000</td>\n",
       "      <td>0.000000</td>\n",
       "      <td>0.445604</td>\n",
       "      <td>0.056362</td>\n",
       "      <td>0.483333</td>\n",
       "    </tr>\n",
       "    <tr>\n",
       "      <th>...</th>\n",
       "      <td>...</td>\n",
       "      <td>...</td>\n",
       "      <td>...</td>\n",
       "      <td>...</td>\n",
       "      <td>...</td>\n",
       "      <td>...</td>\n",
       "      <td>...</td>\n",
       "      <td>...</td>\n",
       "    </tr>\n",
       "    <tr>\n",
       "      <th>619</th>\n",
       "      <td>0.000000</td>\n",
       "      <td>0.597990</td>\n",
       "      <td>0.000000</td>\n",
       "      <td>0.000000</td>\n",
       "      <td>0.000000</td>\n",
       "      <td>0.482861</td>\n",
       "      <td>0.026900</td>\n",
       "      <td>0.050000</td>\n",
       "    </tr>\n",
       "    <tr>\n",
       "      <th>198</th>\n",
       "      <td>0.235294</td>\n",
       "      <td>0.547739</td>\n",
       "      <td>0.524590</td>\n",
       "      <td>0.444444</td>\n",
       "      <td>0.117021</td>\n",
       "      <td>0.518629</td>\n",
       "      <td>0.353117</td>\n",
       "      <td>0.083333</td>\n",
       "    </tr>\n",
       "    <tr>\n",
       "      <th>538</th>\n",
       "      <td>0.000000</td>\n",
       "      <td>0.638191</td>\n",
       "      <td>0.655738</td>\n",
       "      <td>0.373737</td>\n",
       "      <td>0.248227</td>\n",
       "      <td>0.540984</td>\n",
       "      <td>0.309991</td>\n",
       "      <td>0.033333</td>\n",
       "    </tr>\n",
       "    <tr>\n",
       "      <th>329</th>\n",
       "      <td>0.352941</td>\n",
       "      <td>0.527638</td>\n",
       "      <td>0.573770</td>\n",
       "      <td>0.323232</td>\n",
       "      <td>0.080378</td>\n",
       "      <td>0.459016</td>\n",
       "      <td>0.018787</td>\n",
       "      <td>0.266667</td>\n",
       "    </tr>\n",
       "    <tr>\n",
       "      <th>302</th>\n",
       "      <td>0.294118</td>\n",
       "      <td>0.386935</td>\n",
       "      <td>0.672131</td>\n",
       "      <td>0.414141</td>\n",
       "      <td>0.049645</td>\n",
       "      <td>0.533532</td>\n",
       "      <td>0.033305</td>\n",
       "      <td>0.233333</td>\n",
       "    </tr>\n",
       "  </tbody>\n",
       "</table>\n",
       "<p>231 rows × 8 columns</p>\n",
       "</div>"
      ],
      "text/plain": [
       "            0         1         2         3         4         5         6  \\\n",
       "668  0.352941  0.492462  0.475410  0.333333  0.224586  0.506706  0.150299   \n",
       "324  0.117647  0.562814  0.614754  0.323232  0.000000  0.532042  0.029889   \n",
       "624  0.117647  0.542714  0.524590  0.000000  0.000000  0.459016  0.034159   \n",
       "690  0.470588  0.537688  0.655738  0.000000  0.000000  0.366617  0.332195   \n",
       "473  0.411765  0.683417  0.737705  0.000000  0.000000  0.445604  0.056362   \n",
       "..        ...       ...       ...       ...       ...       ...       ...   \n",
       "619  0.000000  0.597990  0.000000  0.000000  0.000000  0.482861  0.026900   \n",
       "198  0.235294  0.547739  0.524590  0.444444  0.117021  0.518629  0.353117   \n",
       "538  0.000000  0.638191  0.655738  0.373737  0.248227  0.540984  0.309991   \n",
       "329  0.352941  0.527638  0.573770  0.323232  0.080378  0.459016  0.018787   \n",
       "302  0.294118  0.386935  0.672131  0.414141  0.049645  0.533532  0.033305   \n",
       "\n",
       "            7  \n",
       "668  0.366667  \n",
       "324  0.000000  \n",
       "624  0.000000  \n",
       "690  0.216667  \n",
       "473  0.483333  \n",
       "..        ...  \n",
       "619  0.050000  \n",
       "198  0.083333  \n",
       "538  0.033333  \n",
       "329  0.266667  \n",
       "302  0.233333  \n",
       "\n",
       "[231 rows x 8 columns]"
      ]
     },
     "execution_count": 129,
     "metadata": {},
     "output_type": "execute_result"
    }
   ],
   "source": [
    "#Split the data\n",
    "from sklearn.model_selection import train_test_split\n",
    "X_train, X_test, y_train, y_test = train_test_split(X, y, test_size=0.3, random_state=42)\n",
    "X_test"
   ]
  },
  {
   "cell_type": "markdown",
   "id": "e13a372f",
   "metadata": {},
   "source": [
    "# Using KNN"
   ]
  },
  {
   "cell_type": "code",
   "execution_count": 131,
   "id": "9b083f0f",
   "metadata": {},
   "outputs": [],
   "source": [
    "from sklearn.neighbors import KNeighborsClassifier"
   ]
  },
  {
   "cell_type": "code",
   "execution_count": 147,
   "id": "fc54e8da",
   "metadata": {},
   "outputs": [],
   "source": [
    "knn = KNeighborsClassifier(n_neighbors=21)"
   ]
  },
  {
   "cell_type": "code",
   "execution_count": 148,
   "id": "5421f8ac",
   "metadata": {},
   "outputs": [
    {
     "data": {
      "text/plain": [
       "KNeighborsClassifier(n_neighbors=21)"
      ]
     },
     "execution_count": 148,
     "metadata": {},
     "output_type": "execute_result"
    }
   ],
   "source": [
    "knn.fit(X_train,y_train)"
   ]
  },
  {
   "cell_type": "code",
   "execution_count": 149,
   "id": "ba477f9b",
   "metadata": {},
   "outputs": [
    {
     "data": {
      "text/plain": [
       "array([0, 0, 0, 0, 1, 0, 0, 0, 1, 0], dtype=int64)"
      ]
     },
     "execution_count": 149,
     "metadata": {},
     "output_type": "execute_result"
    }
   ],
   "source": [
    "y_pred = knn.predict(X_test)\n",
    "y_pred[:10]"
   ]
  },
  {
   "cell_type": "code",
   "execution_count": 150,
   "id": "adedcbca",
   "metadata": {},
   "outputs": [
    {
     "data": {
      "text/plain": [
       "array([0, 0, 0, 0, 0, 0, 0, 0, 0, 0], dtype=int64)"
      ]
     },
     "execution_count": 150,
     "metadata": {},
     "output_type": "execute_result"
    }
   ],
   "source": [
    "np.array(y_test[:10])"
   ]
  },
  {
   "cell_type": "code",
   "execution_count": 151,
   "id": "8434d9f4",
   "metadata": {},
   "outputs": [
    {
     "data": {
      "text/plain": [
       "0.7229437229437229"
      ]
     },
     "execution_count": 151,
     "metadata": {},
     "output_type": "execute_result"
    }
   ],
   "source": [
    "from sklearn.metrics import accuracy_score\n",
    "accuracy_score(y_test,y_pred)"
   ]
  },
  {
   "cell_type": "markdown",
   "id": "d7b7496d",
   "metadata": {},
   "source": [
    "# using KNN for best K value "
   ]
  },
  {
   "cell_type": "code",
   "execution_count": 155,
   "id": "ba1cdac5",
   "metadata": {},
   "outputs": [],
   "source": [
    "Accu=[]\n",
    "for i in range(1,60):\n",
    "    knn= KNeighborsClassifier(n_neighbors=i)\n",
    "    knn.fit(X_train,y_train)\n",
    "    pred_i = knn.predict(X_test)\n",
    "    Accu.append(accuracy_score(y_test,pred_i))"
   ]
  },
  {
   "cell_type": "code",
   "execution_count": 160,
   "id": "bebbdb35",
   "metadata": {},
   "outputs": [
    {
     "data": {
      "text/plain": [
       "[0.6753246753246753,\n",
       " 0.6796536796536796,\n",
       " 0.6926406926406926,\n",
       " 0.696969696969697,\n",
       " 0.6796536796536796,\n",
       " 0.6666666666666666,\n",
       " 0.7142857142857143,\n",
       " 0.696969696969697,\n",
       " 0.7229437229437229,\n",
       " 0.7056277056277056]"
      ]
     },
     "execution_count": 160,
     "metadata": {},
     "output_type": "execute_result"
    }
   ],
   "source": [
    "Accu[:10]"
   ]
  },
  {
   "cell_type": "code",
   "execution_count": 163,
   "id": "cb0cc25c",
   "metadata": {},
   "outputs": [
    {
     "name": "stdout",
     "output_type": "stream",
     "text": [
      "0.7532467532467533\n"
     ]
    },
    {
     "data": {
      "text/plain": [
       "35"
      ]
     },
     "execution_count": 163,
     "metadata": {},
     "output_type": "execute_result"
    }
   ],
   "source": [
    "print(np.array(Accu).max())\n",
    "np.array(Accu).argmax()"
   ]
  },
  {
   "cell_type": "markdown",
   "id": "9a364337",
   "metadata": {},
   "source": [
    "# Plotting"
   ]
  },
  {
   "cell_type": "code",
   "execution_count": 166,
   "id": "c8904bdf",
   "metadata": {},
   "outputs": [
    {
     "data": {
      "image/png": "[encoded data removed]",
      "text/plain": [
       "<Figure size 720x432 with 1 Axes>"
      ]
     },
     "metadata": {
      "needs_background": "light"
     },
     "output_type": "display_data"
    }
   ],
   "source": [
    "plt.figure(figsize=(10,6))\n",
    "plt.plot(range(1,60), Accu, color=\"black\", linestyle=\"dashed\", marker='o', markerfacecolor=\"orange\", markersize=10 )\n",
    "plt.xlabel(\"K-value\")\n",
    "plt.ylabel(\"Acuracy\")\n",
    "plt.title(\"Accuracy Vs K-value for Diabaties\")\n",
    "plt.show()"
   ]
  },
  {
   "cell_type": "code",
   "execution_count": null,
   "id": "ac91fe8f",
   "metadata": {},
   "outputs": [],
   "source": []
  }
 ],
 "metadata": {
  "kernelspec": {
   "display_name": "Python 3 (ipykernel)",
   "language": "python",
   "name": "python3"
  },
  "language_info": {
   "codemirror_mode": {
    "name": "ipython",
    "version": 3
   },
   "file_extension": ".py",
   "mimetype": "text/x-python",
   "name": "python",
   "nbconvert_exporter": "python",
   "pygments_lexer": "ipython3",
   "version": "3.9.7"
  }
 },
 "nbformat": 4,
 "nbformat_minor": 5
}
