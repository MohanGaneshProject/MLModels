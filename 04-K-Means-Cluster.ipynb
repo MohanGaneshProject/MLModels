{
 "cells": [
  {
   "cell_type": "markdown",
   "id": "c5d8699e",
   "metadata": {},
   "source": [
    "# K-Means Clusturing"
   ]
  },
  {
   "cell_type": "code",
   "execution_count": 4,
   "id": "8d443157",
   "metadata": {},
   "outputs": [],
   "source": [
    "import pandas as pd\n",
    "import numpy as np\n",
    "import matplotlib.pyplot as plt"
   ]
  },
  {
   "cell_type": "code",
   "execution_count": 5,
   "id": "4337094b",
   "metadata": {},
   "outputs": [
    {
     "data": {
      "text/html": [
       "<div>\n",
       "<style scoped>\n",
       "    .dataframe tbody tr th:only-of-type {\n",
       "        vertical-align: middle;\n",
       "    }\n",
       "\n",
       "    .dataframe tbody tr th {\n",
       "        vertical-align: top;\n",
       "    }\n",
       "\n",
       "    .dataframe thead th {\n",
       "        text-align: right;\n",
       "    }\n",
       "</style>\n",
       "<table border=\"1\" class=\"dataframe\">\n",
       "  <thead>\n",
       "    <tr style=\"text-align: right;\">\n",
       "      <th></th>\n",
       "      <th>CustomerID</th>\n",
       "      <th>Genre</th>\n",
       "      <th>Age</th>\n",
       "      <th>Annual Income (k$)</th>\n",
       "      <th>Spending Score (1-100)</th>\n",
       "    </tr>\n",
       "  </thead>\n",
       "  <tbody>\n",
       "    <tr>\n",
       "      <th>0</th>\n",
       "      <td>1</td>\n",
       "      <td>Male</td>\n",
       "      <td>19</td>\n",
       "      <td>15</td>\n",
       "      <td>39</td>\n",
       "    </tr>\n",
       "    <tr>\n",
       "      <th>1</th>\n",
       "      <td>2</td>\n",
       "      <td>Male</td>\n",
       "      <td>21</td>\n",
       "      <td>15</td>\n",
       "      <td>81</td>\n",
       "    </tr>\n",
       "    <tr>\n",
       "      <th>2</th>\n",
       "      <td>3</td>\n",
       "      <td>Female</td>\n",
       "      <td>20</td>\n",
       "      <td>16</td>\n",
       "      <td>6</td>\n",
       "    </tr>\n",
       "    <tr>\n",
       "      <th>3</th>\n",
       "      <td>4</td>\n",
       "      <td>Female</td>\n",
       "      <td>23</td>\n",
       "      <td>16</td>\n",
       "      <td>77</td>\n",
       "    </tr>\n",
       "    <tr>\n",
       "      <th>4</th>\n",
       "      <td>5</td>\n",
       "      <td>Female</td>\n",
       "      <td>31</td>\n",
       "      <td>17</td>\n",
       "      <td>40</td>\n",
       "    </tr>\n",
       "  </tbody>\n",
       "</table>\n",
       "</div>"
      ],
      "text/plain": [
       "   CustomerID   Genre  Age  Annual Income (k$)  Spending Score (1-100)\n",
       "0           1    Male   19                  15                      39\n",
       "1           2    Male   21                  15                      81\n",
       "2           3  Female   20                  16                       6\n",
       "3           4  Female   23                  16                      77\n",
       "4           5  Female   31                  17                      40"
      ]
     },
     "execution_count": 5,
     "metadata": {},
     "output_type": "execute_result"
    }
   ],
   "source": [
    "Mall = pd.read_csv(\"C:/Users/HP/OneDrive/Desktop/DataAnalysisFiles/Datasets/Mall_Customers.csv\")\n",
    "Mall.head()"
   ]
  },
  {
   "cell_type": "code",
   "execution_count": 6,
   "id": "897fd96f",
   "metadata": {},
   "outputs": [
    {
     "data": {
      "text/html": [
       "<div>\n",
       "<style scoped>\n",
       "    .dataframe tbody tr th:only-of-type {\n",
       "        vertical-align: middle;\n",
       "    }\n",
       "\n",
       "    .dataframe tbody tr th {\n",
       "        vertical-align: top;\n",
       "    }\n",
       "\n",
       "    .dataframe thead th {\n",
       "        text-align: right;\n",
       "    }\n",
       "</style>\n",
       "<table border=\"1\" class=\"dataframe\">\n",
       "  <thead>\n",
       "    <tr style=\"text-align: right;\">\n",
       "      <th></th>\n",
       "      <th>Annual Income (k$)</th>\n",
       "      <th>Spending Score (1-100)</th>\n",
       "    </tr>\n",
       "  </thead>\n",
       "  <tbody>\n",
       "    <tr>\n",
       "      <th>0</th>\n",
       "      <td>15</td>\n",
       "      <td>39</td>\n",
       "    </tr>\n",
       "    <tr>\n",
       "      <th>1</th>\n",
       "      <td>15</td>\n",
       "      <td>81</td>\n",
       "    </tr>\n",
       "    <tr>\n",
       "      <th>2</th>\n",
       "      <td>16</td>\n",
       "      <td>6</td>\n",
       "    </tr>\n",
       "    <tr>\n",
       "      <th>3</th>\n",
       "      <td>16</td>\n",
       "      <td>77</td>\n",
       "    </tr>\n",
       "    <tr>\n",
       "      <th>4</th>\n",
       "      <td>17</td>\n",
       "      <td>40</td>\n",
       "    </tr>\n",
       "    <tr>\n",
       "      <th>...</th>\n",
       "      <td>...</td>\n",
       "      <td>...</td>\n",
       "    </tr>\n",
       "    <tr>\n",
       "      <th>195</th>\n",
       "      <td>120</td>\n",
       "      <td>79</td>\n",
       "    </tr>\n",
       "    <tr>\n",
       "      <th>196</th>\n",
       "      <td>126</td>\n",
       "      <td>28</td>\n",
       "    </tr>\n",
       "    <tr>\n",
       "      <th>197</th>\n",
       "      <td>126</td>\n",
       "      <td>74</td>\n",
       "    </tr>\n",
       "    <tr>\n",
       "      <th>198</th>\n",
       "      <td>137</td>\n",
       "      <td>18</td>\n",
       "    </tr>\n",
       "    <tr>\n",
       "      <th>199</th>\n",
       "      <td>137</td>\n",
       "      <td>83</td>\n",
       "    </tr>\n",
       "  </tbody>\n",
       "</table>\n",
       "<p>200 rows × 2 columns</p>\n",
       "</div>"
      ],
      "text/plain": [
       "     Annual Income (k$)  Spending Score (1-100)\n",
       "0                    15                      39\n",
       "1                    15                      81\n",
       "2                    16                       6\n",
       "3                    16                      77\n",
       "4                    17                      40\n",
       "..                  ...                     ...\n",
       "195                 120                      79\n",
       "196                 126                      28\n",
       "197                 126                      74\n",
       "198                 137                      18\n",
       "199                 137                      83\n",
       "\n",
       "[200 rows x 2 columns]"
      ]
     },
     "execution_count": 6,
     "metadata": {},
     "output_type": "execute_result"
    }
   ],
   "source": [
    "X = Mall.iloc[:,[3,4]]\n",
    "X"
   ]
  },
  {
   "cell_type": "code",
   "execution_count": 7,
   "id": "4add72db",
   "metadata": {},
   "outputs": [],
   "source": [
    "from sklearn.cluster import KMeans\n",
    "kmeans = KMeans(n_clusters=7, random_state = 42,init = \"kmeans++\")"
   ]
  },
  {
   "cell_type": "markdown",
   "id": "c3e63369",
   "metadata": {},
   "source": [
    "# Standardization"
   ]
  },
  {
   "cell_type": "code",
   "execution_count": 8,
   "id": "fd873a63",
   "metadata": {},
   "outputs": [],
   "source": [
    "from sklearn.preprocessing import StandardScaler,MinMaxScaler\n",
    "scaler = StandardScaler()\n",
    "norm = MinMaxScaler()"
   ]
  },
  {
   "cell_type": "code",
   "execution_count": 9,
   "id": "40da6830",
   "metadata": {},
   "outputs": [
    {
     "data": {
      "text/plain": [
       "Index(['CustomerID', 'Genre', 'Age', 'Annual Income (k$)',\n",
       "       'Spending Score (1-100)'],\n",
       "      dtype='object')"
      ]
     },
     "execution_count": 9,
     "metadata": {},
     "output_type": "execute_result"
    }
   ],
   "source": [
    "#Standardization\n",
    "X = scaler.fit_transform(X)\n",
    "#X = norm.fit_transform(X)\n",
    "Mall.columns"
   ]
  },
  {
   "cell_type": "code",
   "execution_count": 10,
   "id": "5d86b5d7",
   "metadata": {},
   "outputs": [
    {
     "data": {
      "text/plain": [
       "Text(0, 0.5, 'Spending Score')"
      ]
     },
     "execution_count": 10,
     "metadata": {},
     "output_type": "execute_result"
    },
    {
     "data": {
      "image/png": "[encoded data removed]",
      "text/plain": [
       "<Figure size 720x432 with 1 Axes>"
      ]
     },
     "metadata": {
      "needs_background": "light"
     },
     "output_type": "display_data"
    }
   ],
   "source": [
    "plt.figure(figsize=(10,6))\n",
    "plt.scatter(Mall[\"Annual Income (k$)\"], Mall[\"Spending Score (1-100)\"])\n",
    "plt.xlabel(\"Annual Income\")\n",
    "plt.ylabel(\"Spending Score\")"
   ]
  },
  {
   "cell_type": "markdown",
   "id": "8cbed78a",
   "metadata": {},
   "source": [
    "# Inertia"
   ]
  },
  {
   "cell_type": "markdown",
   "id": "d413cdeb",
   "metadata": {},
   "source": [
    "# Using the elbow method to find the optional no of clusters"
   ]
  },
  {
   "cell_type": "code",
   "execution_count": 11,
   "id": "3007d270",
   "metadata": {},
   "outputs": [
    {
     "name": "stderr",
     "output_type": "stream",
     "text": [
      "C:\\Users\\HP\\anaconda3\\lib\\site-packages\\sklearn\\cluster\\_kmeans.py:881: UserWarning: KMeans is known to have a memory leak on Windows with MKL, when there are less chunks than available threads. You can avoid it by setting the environment variable OMP_NUM_THREADS=1.\n",
      "  warnings.warn(\n"
     ]
    },
    {
     "data": {
      "text/plain": [
       "Text(0.5, 1.0, 'Elbow Method')"
      ]
     },
     "execution_count": 11,
     "metadata": {},
     "output_type": "execute_result"
    },
    {
     "data": {
      "image/png": "[encoded data removed]",
      "text/plain": [
       "<Figure size 936x432 with 1 Axes>"
      ]
     },
     "metadata": {
      "needs_background": "light"
     },
     "output_type": "display_data"
    }
   ],
   "source": [
    "from sklearn.cluster import KMeans\n",
    "wcss = []\n",
    "for i in range(1,11):\n",
    "    kmeans = KMeans(n_clusters=i, random_state=42)\n",
    "    kmeans.fit(X)\n",
    "    wcss.append(kmeans.inertia_)\n",
    "plt.figure(figsize=(13,6))\n",
    "plt.plot(range(1,11), wcss, marker='o')\n",
    "plt.xlabel(\"No of Clusters\")\n",
    "plt.ylabel(\"Inertia\")\n",
    "plt.title(\"Elbow Method\")"
   ]
  },
  {
   "cell_type": "markdown",
   "id": "811f3f72",
   "metadata": {},
   "source": [
    "# Training the K-Means model on the Dataset"
   ]
  },
  {
   "cell_type": "code",
   "execution_count": 12,
   "id": "316014ac",
   "metadata": {},
   "outputs": [
    {
     "data": {
      "text/plain": [
       "array([2, 3, 2, 3, 2, 3, 2, 3, 2, 3, 2, 3, 2, 3, 2, 3, 2, 3, 2, 3, 2, 3,\n",
       "       2, 3, 2, 3, 2, 3, 2, 3, 2, 3, 2, 3, 2, 3, 2, 3, 2, 3, 2, 3, 2, 0,\n",
       "       2, 3, 0, 0, 0, 0, 0, 0, 0, 0, 0, 0, 0, 0, 0, 0, 0, 0, 0, 0, 0, 0,\n",
       "       0, 0, 0, 0, 0, 0, 0, 0, 0, 0, 0, 0, 0, 0, 0, 0, 0, 0, 0, 0, 0, 0,\n",
       "       0, 0, 0, 0, 0, 0, 0, 0, 0, 0, 0, 0, 0, 0, 0, 0, 0, 0, 0, 0, 0, 0,\n",
       "       0, 0, 0, 0, 0, 0, 0, 0, 0, 0, 0, 0, 0, 4, 1, 4, 0, 4, 1, 4, 1, 4,\n",
       "       0, 4, 1, 4, 1, 4, 1, 4, 1, 4, 0, 4, 1, 4, 1, 4, 1, 4, 1, 4, 1, 4,\n",
       "       1, 4, 1, 4, 1, 4, 1, 4, 1, 4, 1, 4, 1, 4, 1, 4, 1, 4, 1, 4, 1, 4,\n",
       "       1, 4, 1, 4, 1, 4, 1, 4, 1, 4, 1, 4, 1, 4, 1, 4, 1, 4, 1, 4, 1, 4,\n",
       "       1, 4])"
      ]
     },
     "execution_count": 12,
     "metadata": {},
     "output_type": "execute_result"
    }
   ],
   "source": [
    "kmeans = KMeans(n_clusters=5, random_state=42)\n",
    "y_kmeans = kmeans.fit_predict(X)\n",
    "y_kmeans"
   ]
  },
  {
   "cell_type": "code",
   "execution_count": 13,
   "id": "c220cb50",
   "metadata": {},
   "outputs": [
    {
     "data": {
      "text/plain": [
       "array([2, 3, 2, 3, 2, 3, 2, 3, 2, 3, 2, 3, 2, 3, 2, 3, 2, 3, 2, 3, 2, 3,\n",
       "       2, 3, 2, 3, 2, 3, 2, 3, 2, 3, 2, 3, 2, 3, 2, 3, 2, 3, 2, 3, 2, 0,\n",
       "       2, 3, 0, 0, 0, 0, 0, 0, 0, 0, 0, 0, 0, 0, 0, 0, 0, 0, 0, 0, 0, 0,\n",
       "       0, 0, 0, 0, 0, 0, 0, 0, 0, 0, 0, 0, 0, 0, 0, 0, 0, 0, 0, 0, 0, 0,\n",
       "       0, 0, 0, 0, 0, 0, 0, 0, 0, 0, 0, 0, 0, 0, 0, 0, 0, 0, 0, 0, 0, 0,\n",
       "       0, 0, 0, 0, 0, 0, 0, 0, 0, 0, 0, 0, 0, 4, 1, 4, 0, 4, 1, 4, 1, 4,\n",
       "       0, 4, 1, 4, 1, 4, 1, 4, 1, 4, 0, 4, 1, 4, 1, 4, 1, 4, 1, 4, 1, 4,\n",
       "       1, 4, 1, 4, 1, 4, 1, 4, 1, 4, 1, 4, 1, 4, 1, 4, 1, 4, 1, 4, 1, 4,\n",
       "       1, 4, 1, 4, 1, 4, 1, 4, 1, 4, 1, 4, 1, 4, 1, 4, 1, 4, 1, 4, 1, 4,\n",
       "       1, 4])"
      ]
     },
     "execution_count": 13,
     "metadata": {},
     "output_type": "execute_result"
    }
   ],
   "source": [
    "kmeans.labels_"
   ]
  },
  {
   "cell_type": "code",
   "execution_count": 14,
   "id": "3f64a44c",
   "metadata": {},
   "outputs": [
    {
     "data": {
      "text/plain": [
       "array([[-0.20091257, -0.02645617],\n",
       "       [ 1.05500302, -1.28443907],\n",
       "       [-1.30751869, -1.13696536],\n",
       "       [-1.32954532,  1.13217788],\n",
       "       [ 0.99158305,  1.23950275]])"
      ]
     },
     "execution_count": 14,
     "metadata": {},
     "output_type": "execute_result"
    }
   ],
   "source": [
    "#For Centroid Values\n",
    "kmeans.cluster_centers_"
   ]
  },
  {
   "cell_type": "code",
   "execution_count": 15,
   "id": "f62f2830",
   "metadata": {},
   "outputs": [
    {
     "name": "stdout",
     "output_type": "stream",
     "text": [
      "[-1.73899919 -1.73899919 -1.70082976 -1.70082976 -1.66266033 -1.66266033\n",
      " -1.62449091 -1.62449091 -1.58632148 -1.58632148 -1.58632148 -1.58632148\n",
      " -1.54815205 -1.54815205 -1.54815205 -1.54815205 -1.50998262 -1.50998262\n",
      " -1.43364376 -1.43364376 -1.39547433 -1.39547433 -1.3573049  -1.3573049\n",
      " -1.24279661 -1.24279661 -1.24279661 -1.24279661 -1.20462718 -1.20462718\n",
      " -1.16645776 -1.16645776 -1.05194947 -1.05194947 -1.05194947 -1.05194947\n",
      " -1.01378004 -1.01378004 -0.89927175 -0.89927175 -0.86110232 -0.86110232\n",
      " -0.82293289 -0.82293289 -0.82293289 -0.82293289 -0.78476346 -0.78476346\n",
      " -0.78476346 -0.78476346 -0.70842461 -0.70842461 -0.67025518 -0.67025518\n",
      " -0.67025518 -0.67025518 -0.63208575 -0.63208575 -0.55574689 -0.55574689\n",
      " -0.55574689 -0.55574689 -0.51757746 -0.51757746 -0.47940803 -0.47940803\n",
      " -0.47940803 -0.47940803 -0.47940803 -0.47940803 -0.4412386  -0.4412386\n",
      " -0.40306917 -0.40306917 -0.25039146 -0.25039146 -0.25039146 -0.25039146\n",
      " -0.25039146 -0.25039146 -0.25039146 -0.25039146 -0.25039146 -0.25039146\n",
      " -0.25039146 -0.25039146 -0.13588317 -0.13588317 -0.09771374 -0.09771374\n",
      " -0.05954431 -0.05954431 -0.02137488 -0.02137488 -0.02137488 -0.02137488\n",
      " -0.02137488 -0.02137488  0.01679455  0.01679455  0.05496398  0.05496398\n",
      "  0.05496398  0.05496398  0.05496398  0.05496398  0.09313341  0.09313341\n",
      "  0.09313341  0.09313341  0.09313341  0.09313341  0.13130284  0.13130284\n",
      "  0.16947227  0.16947227  0.16947227  0.16947227  0.24581112  0.24581112\n",
      "  0.24581112  0.24581112  0.32214998  0.32214998  0.36031941  0.36031941\n",
      "  0.39848884  0.39848884  0.39848884  0.39848884  0.39848884  0.39848884\n",
      "  0.43665827  0.43665827  0.4748277   0.4748277   0.4748277   0.4748277\n",
      "  0.51299713  0.51299713  0.55116656  0.55116656  0.58933599  0.58933599\n",
      "  0.62750542  0.62750542  0.62750542  0.62750542  0.66567484  0.66567484\n",
      "  0.66567484  0.66567484  0.66567484  0.66567484  0.66567484  0.66567484\n",
      "  0.66567484  0.66567484  0.66567484  0.66567484  0.70384427  0.70384427\n",
      "  0.78018313  0.78018313  0.93286085  0.93286085  0.97103028  0.97103028\n",
      "  1.00919971  1.00919971  1.00919971  1.00919971  1.00919971  1.00919971\n",
      "  1.04736914  1.04736914  1.04736914  1.04736914  1.23821628  1.23821628\n",
      "  1.390894    1.390894    1.42906343  1.42906343  1.46723286  1.46723286\n",
      "  1.54357172  1.54357172  1.61991057  1.61991057  1.61991057  1.61991057\n",
      "  2.00160487  2.00160487  2.26879087  2.26879087  2.49780745  2.49780745\n",
      "  2.91767117  2.91767117]\n"
     ]
    },
    {
     "data": {
      "text/plain": [
       "array([-0.43480148,  1.19570407, -1.71591298,  1.04041783, -0.39597992,\n",
       "        1.00159627, -1.71591298,  1.70038436, -1.83237767,  0.84631002,\n",
       "       -1.4053405 ,  1.89449216, -1.36651894,  1.04041783, -1.44416206,\n",
       "        1.11806095, -0.59008772,  0.61338066, -0.82301709,  1.8556706 ,\n",
       "       -0.59008772,  0.88513158, -1.75473454,  0.88513158, -1.4053405 ,\n",
       "        1.23452563, -0.7065524 ,  0.41927286, -0.74537397,  1.42863343,\n",
       "       -1.7935561 ,  0.88513158, -1.7935561 ,  1.62274124, -1.4053405 ,\n",
       "        1.19570407, -1.28887582,  0.88513158, -0.93948177,  0.96277471,\n",
       "       -0.59008772,  1.62274124, -0.55126616,  0.41927286, -0.86183865,\n",
       "        0.5745591 ,  0.18634349, -0.12422899, -0.3183368 , -0.3183368 ,\n",
       "        0.06987881,  0.38045129,  0.14752193,  0.38045129, -0.20187212,\n",
       "       -0.35715836, -0.00776431, -0.16305055,  0.03105725, -0.16305055,\n",
       "        0.22516505,  0.18634349,  0.06987881,  0.34162973,  0.03105725,\n",
       "        0.34162973, -0.00776431, -0.08540743,  0.34162973, -0.12422899,\n",
       "        0.18634349, -0.3183368 , -0.04658587,  0.22516505, -0.12422899,\n",
       "        0.14752193,  0.10870037, -0.08540743,  0.06987881, -0.3183368 ,\n",
       "        0.03105725,  0.18634349, -0.35715836, -0.24069368,  0.26398661,\n",
       "       -0.16305055,  0.30280817,  0.18634349,  0.38045129, -0.16305055,\n",
       "        0.18634349, -0.35715836, -0.04658587, -0.39597992, -0.3183368 ,\n",
       "        0.06987881, -0.12422899, -0.00776431, -0.3183368 , -0.04658587,\n",
       "       -0.35715836, -0.08540743,  0.34162973,  0.18634349,  0.22516505,\n",
       "       -0.3183368 , -0.00776431, -0.16305055, -0.27951524, -0.08540743,\n",
       "        0.06987881,  0.14752193, -0.3183368 , -0.16305055, -0.08540743,\n",
       "       -0.00776431, -0.27951524,  0.34162973, -0.27951524,  0.26398661,\n",
       "        0.22516505, -0.39597992,  0.30280817,  1.58391968, -0.82301709,\n",
       "        1.04041783, -0.59008772,  1.73920592, -1.52180518,  0.96277471,\n",
       "       -1.5994483 ,  0.96277471, -0.62890928,  0.80748846, -1.75473454,\n",
       "        1.46745499, -1.67709142,  0.88513158, -1.56062674,  0.84631002,\n",
       "       -1.75473454,  1.6615628 , -0.39597992,  1.42863343, -1.48298362,\n",
       "        1.81684904, -0.55126616,  0.92395314, -1.09476801,  1.54509812,\n",
       "       -1.28887582,  1.46745499, -1.17241113,  1.00159627, -1.32769738,\n",
       "        1.50627656, -1.91002079,  1.07923939, -1.91002079,  0.88513158,\n",
       "       -0.59008772,  1.27334719, -1.75473454,  1.6615628 , -0.93948177,\n",
       "        0.96277471, -1.17241113,  1.73920592, -0.90066021,  0.49691598,\n",
       "       -1.44416206,  0.96277471, -1.56062674,  1.62274124, -1.44416206,\n",
       "        1.38981187, -1.36651894,  0.72984534, -1.4053405 ,  1.54509812,\n",
       "       -0.7065524 ,  1.38981187, -1.36651894,  1.46745499, -0.43480148,\n",
       "        1.81684904, -1.01712489,  0.69102378, -1.28887582,  1.35099031,\n",
       "       -1.05594645,  0.72984534, -1.63826986,  1.58391968, -1.32769738,\n",
       "        1.11806095, -0.86183865,  0.92395314, -1.25005425,  1.27334719])"
      ]
     },
     "execution_count": 15,
     "metadata": {},
     "output_type": "execute_result"
    }
   ],
   "source": [
    "#Annual Score\n",
    "print(X[:,0])\n",
    "#spending score\n",
    "X[:,1]"
   ]
  },
  {
   "cell_type": "code",
   "execution_count": 16,
   "id": "b5162f99",
   "metadata": {},
   "outputs": [
    {
     "data": {
      "text/plain": [
       "<matplotlib.collections.PathCollection at 0x279f214ac70>"
      ]
     },
     "execution_count": 16,
     "metadata": {},
     "output_type": "execute_result"
    },
    {
     "data": {
      "image/png": "[encoded data removed]",
      "text/plain": [
       "<Figure size 432x288 with 1 Axes>"
      ]
     },
     "metadata": {
      "needs_background": "light"
     },
     "output_type": "display_data"
    }
   ],
   "source": [
    "plt.scatter(X[:,0], X[:,1])"
   ]
  },
  {
   "cell_type": "markdown",
   "id": "b87b00a9",
   "metadata": {},
   "source": [
    "# Visulaze the Clusters"
   ]
  },
  {
   "cell_type": "code",
   "execution_count": 17,
   "id": "45e314dc",
   "metadata": {},
   "outputs": [
    {
     "data": {
      "image/png": "[encoded data removed]",
      "text/plain": [
       "<Figure size 936x360 with 1 Axes>"
      ]
     },
     "metadata": {
      "needs_background": "light"
     },
     "output_type": "display_data"
    }
   ],
   "source": [
    "plt.figure(figsize=(13,5))\n",
    "plt.scatter(X[y_kmeans== 0, 0], X[y_kmeans == 0,1], s=100, color=\"red\", label=\"Cluster1\")\n",
    "plt.scatter(X[y_kmeans== 1, 0], X[y_kmeans == 1,1], s=100, color=\"blue\", label=\"Cluster2\")\n",
    "plt.scatter(X[y_kmeans== 2, 0], X[y_kmeans == 2,1], s=100, color=\"green\", label=\"Cluster3\")\n",
    "plt.scatter(X[y_kmeans== 3, 0], X[y_kmeans == 3,1], s=100, color=\"cyan\", label=\"Cluster4\")\n",
    "plt.scatter(X[y_kmeans== 4, 0], X[y_kmeans == 4,1], s=100, color=\"magenta\", label=\"Cluster5\")\n",
    "plt.scatter(kmeans.cluster_centers_[:,0], kmeans.cluster_centers_[:,1], s=300, c=\"black\", label =\"Centroids\")\n",
    "plt.title(\"Center of Centroids\")\n",
    "plt.xlabel(\"Annual Income\")\n",
    "plt.ylabel(\"Spending Score\")\n",
    "plt.legend()\n",
    "plt.show()"
   ]
  },
  {
   "cell_type": "code",
   "execution_count": 18,
   "id": "cdbd1629",
   "metadata": {},
   "outputs": [
    {
     "data": {
      "text/plain": [
       "0.5546571631111091"
      ]
     },
     "execution_count": 18,
     "metadata": {},
     "output_type": "execute_result"
    }
   ],
   "source": [
    "from sklearn.metrics import silhouette_score\n",
    "silhouette_score(X,kmeans.labels_)"
   ]
  },
  {
   "cell_type": "code",
   "execution_count": null,
   "id": "96da28fe",
   "metadata": {},
   "outputs": [],
   "source": []
  },
  {
   "cell_type": "code",
   "execution_count": null,
   "id": "8c501ecc",
   "metadata": {},
   "outputs": [],
   "source": []
  }
 ],
 "metadata": {
  "kernelspec": {
   "display_name": "Python 3 (ipykernel)",
   "language": "python",
   "name": "python3"
  },
  "language_info": {
   "codemirror_mode": {
    "name": "ipython",
    "version": 3
   },
   "file_extension": ".py",
   "mimetype": "text/x-python",
   "name": "python",
   "nbconvert_exporter": "python",
   "pygments_lexer": "ipython3",
   "version": "3.9.7"
  }
 },
 "nbformat": 4,
 "nbformat_minor": 5
}
